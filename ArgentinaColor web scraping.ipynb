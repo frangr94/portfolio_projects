{
 "cells": [
  {
   "cell_type": "code",
   "execution_count": 57,
   "id": "efa4861b",
   "metadata": {},
   "outputs": [],
   "source": [
    "import pandas as pd\n",
    "from bs4 import BeautifulSoup\n",
    "import smtplib\n",
    "import time\n",
    "import datetime\n",
    "import requests"
   ]
  },
  {
   "cell_type": "code",
   "execution_count": 58,
   "id": "de89b8c4",
   "metadata": {
    "scrolled": false
   },
   "outputs": [
    {
     "name": "stdout",
     "output_type": "stream",
     "text": [
      "\n",
      "\n",
      "             Cartucho Hp 954xl Negro Original L0s71al 7740 8210 8710 8720\n",
      "            \n",
      "\n",
      "11124.48\n",
      "\n",
      "\n",
      "            Stock disponible\n",
      "           \n",
      "\n"
     ]
    }
   ],
   "source": [
    "# connect to website\n",
    "URL = \"https://www.argentinacolor.com/MLA-740311518-cartucho-hp-954xl-negro-original-l0s71al-7740-8210-8710-8720-_JM\"\n",
    "\n",
    "headers = {\"User-Agent\": \"Mozilla/5.0 (Windows NT 10.0; Win64; x64; rv:103.0) Gecko/20100101 Firefox/103.0\"}\n",
    "\n",
    "page = requests.get(URL,headers=headers)\n",
    "\n",
    "Soup1 = BeautifulSoup(page.content, \"html.parser\")\n",
    "\n",
    "Soup2 = BeautifulSoup(Soup1.prettify(),\"html.parser\")\n",
    "\n",
    "title = Soup2.find(\"div\",{\"class\":\"ui-pdp-header__title-container\"}).get_text()\n",
    "\n",
    "price = Soup2.find(\"meta\", {\"itemprop\":\"price\"})['content']\n",
    "\n",
    "stock = Soup2.find(\"div\",{\"class\":\"ui-pdp-stock-information\"}).get_text()\n",
    "\n",
    "print(title)\n",
    "print(price)\n",
    "print(stock)\n",
    "\n"
   ]
  },
  {
   "cell_type": "code",
   "execution_count": 59,
   "id": "cf67debd",
   "metadata": {},
   "outputs": [
    {
     "name": "stdout",
     "output_type": "stream",
     "text": [
      "Cartucho Hp 954xl Negro Original L0s71al 7740 8210 8710 8720\n",
      "11124.48\n",
      "Stock disponible\n"
     ]
    }
   ],
   "source": [
    "# trim\n",
    "title=title.strip()\n",
    "price=price.strip()\n",
    "stock=stock.strip()\n",
    "print(title)\n",
    "print(price)\n",
    "print(stock)\n",
    "\n"
   ]
  },
  {
   "cell_type": "code",
   "execution_count": 60,
   "id": "9d15a93b",
   "metadata": {},
   "outputs": [
    {
     "name": "stdout",
     "output_type": "stream",
     "text": [
      "2022-08-22\n"
     ]
    }
   ],
   "source": [
    "# add datestamp\n",
    "import datetime\n",
    "today = datetime.date.today()\n",
    "print(today)"
   ]
  },
  {
   "cell_type": "code",
   "execution_count": 61,
   "id": "26108748",
   "metadata": {},
   "outputs": [],
   "source": [
    "# export data to csv\n",
    "\n",
    "import csv\n",
    "\n",
    "header = ['Title', 'Price', 'Stock','Date']\n",
    "data = [title,price,stock,today]\n",
    "\n",
    "with open('ArgColorScrap.csv','w', newline='') as f:\n",
    "    writer = csv.writer(f)\n",
    "    writer.writerow(header)\n",
    "    writer.writerow(data)\n"
   ]
  },
  {
   "cell_type": "code",
   "execution_count": 44,
   "id": "ea07c416",
   "metadata": {},
   "outputs": [
    {
     "name": "stdout",
     "output_type": "stream",
     "text": [
      "                                               Title     Price  \\\n",
      "0  Cartucho Hp 954xl Negro Original L0s71al 7740 ...  11124.48   \n",
      "\n",
      "              Stock        Date  \n",
      "0  Stock disponible  2022-08-22  \n"
     ]
    }
   ],
   "source": [
    "df = pd.read_csv(r'C:\\Users\\Usuario\\Desktop\\Proyectos\\data scraping argentina color\\ArgColorScrap.csv')\n",
    "print(df)"
   ]
  },
  {
   "cell_type": "code",
   "execution_count": 62,
   "id": "96096f19",
   "metadata": {},
   "outputs": [],
   "source": [
    "# get more data\n",
    "\n",
    "with open('ArgColorScrap.csv','a+', newline='') as f:\n",
    "    writer = csv.writer(f)\n",
    "    writer.writerow(data)"
   ]
  },
  {
   "cell_type": "code",
   "execution_count": 63,
   "id": "a5451a5b",
   "metadata": {},
   "outputs": [],
   "source": [
    "# automate data scraping for a daily price check\n",
    "\n",
    "def price_check():\n",
    "    \n",
    "    # pull data\n",
    "    URL = \"https://www.argentinacolor.com/MLA-740311518-cartucho-hp-954xl-negro-original-l0s71al-7740-8210-8710-8720-_JM\"\n",
    "\n",
    "    headers = {\"User-Agent\": \"Mozilla/5.0 (Windows NT 10.0; Win64; x64; rv:103.0) Gecko/20100101 Firefox/103.0\"}\n",
    "\n",
    "    page = requests.get(URL,headers=headers)\n",
    "\n",
    "    Soup1 = BeautifulSoup(page.content, \"html.parser\")\n",
    "\n",
    "    Soup2 = BeautifulSoup(Soup1.prettify(),\"html.parser\")\n",
    "\n",
    "    title = Soup2.find(\"div\",{\"class\":\"ui-pdp-header__title-container\"}).get_text()\n",
    "\n",
    "    price = Soup2.find(\"meta\", {\"itemprop\":\"price\"})['content']\n",
    "\n",
    "    stock = Soup2.find(\"div\",{\"class\":\"ui-pdp-stock-information\"}).get_text()\n",
    "    \n",
    "    title=title.strip()\n",
    "    price=price.strip()\n",
    "    price=float(price)\n",
    "    stock=stock.strip()\n",
    "    \n",
    "    import datetime\n",
    "    today = datetime.date.today()\n",
    "\n",
    "    import csv\n",
    "    header = ['Title', 'Price', 'Stock','Date']\n",
    "    data = [title,price,stock,today]\n",
    "    \n",
    "    with open('ArgColorScrap.csv','a+', newline='') as f:\n",
    "        writer = csv.writer(f)\n",
    "        writer.writerow(data)\n"
   ]
  },
  {
   "cell_type": "code",
   "execution_count": null,
   "id": "747574b1",
   "metadata": {},
   "outputs": [],
   "source": [
    "# daily check would be 86400, set to 5 seconds to try it out\n",
    "while(True):\n",
    "    price_check()\n",
    "    time.sleep(5)"
   ]
  },
  {
   "cell_type": "code",
   "execution_count": 66,
   "id": "ba23e321",
   "metadata": {},
   "outputs": [
    {
     "name": "stdout",
     "output_type": "stream",
     "text": [
      "                                               Title     Price  \\\n",
      "0  Cartucho Hp 954xl Negro Original L0s71al 7740 ...  11124.48   \n",
      "1  Cartucho Hp 954xl Negro Original L0s71al 7740 ...  11124.48   \n",
      "2  Cartucho Hp 954xl Negro Original L0s71al 7740 ...  11124.48   \n",
      "3  Cartucho Hp 954xl Negro Original L0s71al 7740 ...  11124.48   \n",
      "\n",
      "              Stock        Date  \n",
      "0  Stock disponible  2022-08-22  \n",
      "1  Stock disponible  2022-08-22  \n",
      "2  Stock disponible  2022-08-22  \n",
      "3  Stock disponible  2022-08-22  \n"
     ]
    }
   ],
   "source": [
    "df = pd.read_csv(r'C:\\Users\\Usuario\\Desktop\\Proyectos\\data scraping argentina color\\ArgColorScrap.csv')\n",
    "print(df)"
   ]
  },
  {
   "cell_type": "code",
   "execution_count": null,
   "id": "696b0e7b",
   "metadata": {},
   "outputs": [],
   "source": []
  },
  {
   "cell_type": "code",
   "execution_count": null,
   "id": "4fe55cfb",
   "metadata": {},
   "outputs": [],
   "source": []
  }
 ],
 "metadata": {
  "kernelspec": {
   "display_name": "Python 3 (ipykernel)",
   "language": "python",
   "name": "python3"
  },
  "language_info": {
   "codemirror_mode": {
    "name": "ipython",
    "version": 3
   },
   "file_extension": ".py",
   "mimetype": "text/x-python",
   "name": "python",
   "nbconvert_exporter": "python",
   "pygments_lexer": "ipython3",
   "version": "3.9.12"
  }
 },
 "nbformat": 4,
 "nbformat_minor": 5
}
